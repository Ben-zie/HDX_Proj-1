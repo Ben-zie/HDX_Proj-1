{
 "cells": [
  {
   "cell_type": "code",
   "execution_count": 22,
   "id": "1f1f5ff0-143f-4805-87e3-b266b884f280",
   "metadata": {
    "tags": []
   },
   "outputs": [],
   "source": [
    "import pandas as pd\n",
    "import numpy as np \n",
    "import scipy as cp\n",
    "    \n",
    "from hdx.utilities.easy_logging import setup_logging\n",
    "from hdx.api.configuration import Configuration\n",
    "from hdx.data.dataset import Dataset"
   ]
  },
  {
   "cell_type": "code",
   "execution_count": 23,
   "id": "dcb89cf1-7536-4cd6-907c-713bfcdcf3fa",
   "metadata": {
    "tags": []
   },
   "outputs": [],
   "source": [
    "setup_logging()"
   ]
  },
  {
   "cell_type": "code",
   "execution_count": 25,
   "id": "f32c5010-3508-4c7b-9c70-9a7203096a06",
   "metadata": {
    "tags": []
   },
   "outputs": [],
   "source": [
    "# Configuration has to be made only once \n",
    "# Configuration.create(hdx_site=\"prod\", user_agent=\"BDAUTRIF_HDX-client-Proj\", hdx_read_only=True)"
   ]
  },
  {
   "cell_type": "code",
   "execution_count": 26,
   "id": "d8a91d32-87a1-498f-a393-3f5909014558",
   "metadata": {
    "tags": []
   },
   "outputs": [
    {
     "name": "stdout",
     "output_type": "stream",
     "text": [
      "{'startdate': datetime.datetime(2020, 1, 22, 0, 0, tzinfo=datetime.timezone.utc), 'enddate': datetime.datetime(2023, 3, 9, 23, 59, 59, tzinfo=datetime.timezone.utc), 'startdate_str': '2020-01-22T00:00:00+00:00', 'enddate_str': '2023-03-09T23:59:59+00:00', 'ongoing': False}\n"
     ]
    }
   ],
   "source": [
    "dataset = Dataset.read_from_hdx(\"novel-coronavirus-2019-ncov-cases\")\n",
    "print(dataset.get_reference_period())"
   ]
  },
  {
   "cell_type": "code",
   "execution_count": 27,
   "id": "ca149c0d-7095-4610-8958-32a8191cef2f",
   "metadata": {
    "tags": []
   },
   "outputs": [],
   "source": [
    "datasets = Dataset.search_in_hdx(\"thailand subnational boundaries\", rows=10)\n",
    "\n",
    "resources = Dataset.get_all_resources(datasets)"
   ]
  },
  {
   "cell_type": "code",
   "execution_count": 29,
   "id": "3bc34362-7a9f-4767-9bb3-d07c78a43e98",
   "metadata": {
    "tags": []
   },
   "outputs": [],
   "source": [
    "period = dataset.get_reference_period()"
   ]
  },
  {
   "cell_type": "code",
   "execution_count": 30,
   "id": "956b5775-a4be-4487-85df-e1ee75684919",
   "metadata": {
    "tags": []
   },
   "outputs": [],
   "source": [
    "update_frequency = dataset.get_expected_update_frequency()"
   ]
  },
  {
   "cell_type": "code",
   "execution_count": 31,
   "id": "e2e582c8-3918-4255-ab0b-03d9a76b3ed3",
   "metadata": {
    "tags": []
   },
   "outputs": [],
   "source": [
    "locations = dataset.get_location_iso3s()"
   ]
  },
  {
   "cell_type": "code",
   "execution_count": 33,
   "id": "a015a91b-83aa-4234-95ea-c7da808ccb30",
   "metadata": {
    "tags": []
   },
   "outputs": [],
   "source": [
    "locations = dataset.get_location_names()"
   ]
  },
  {
   "cell_type": "code",
   "execution_count": 34,
   "id": "b26c8b1b-ea5a-4092-8f8f-9758c6ef654c",
   "metadata": {
    "tags": []
   },
   "outputs": [],
   "source": [
    "tags = dataset.get_tags()"
   ]
  },
  {
   "cell_type": "code",
   "execution_count": 36,
   "id": "0df24aa2-c804-42af-ab61-746adf86e995",
   "metadata": {
    "tags": []
   },
   "outputs": [
    {
     "name": "stdout",
     "output_type": "stream",
     "text": [
      "['Afghanistan', 'Albania', 'Algeria', 'Andorra', 'Antigua and Barbuda', 'Argentina', 'Armenia', 'Aruba', 'Australia', 'Austria', 'Azerbaijan', 'Bahamas', 'Bahrain', 'Bangladesh', 'Belarus', 'Belgium', 'Bhutan', 'Bolivia (Plurinational State of)', 'Bosnia and Herzegovina', 'Brazil', 'Brunei Darussalam', 'Bulgaria', 'Burkina Faso', 'Cambodia', 'Cameroon', 'Canada', 'Cayman Islands', 'Central African Republic', 'Chile', 'China', 'China, Hong Kong Special Administrative Region', 'China, Macao Special Administrative Region', 'Colombia', 'Congo', 'Costa Rica', 'Croatia', 'Cuba', 'Cyprus', 'Czechia', \"Côte d'Ivoire\", 'Democratic Republic of the Congo', 'Denmark', 'Dominican Republic', 'Ecuador', 'Egypt', 'Equatorial Guinea', 'Estonia', 'Eswatini', 'Ethiopia', 'Faroe Islands', 'Finland', 'France', 'Gabon', 'Georgia', 'Germany', 'Ghana', 'Gibraltar', 'Greece', 'Guadeloupe', 'Guam', 'Guatemala', 'Guernsey', 'Guinea', 'Guyana', 'Holy See', 'Honduras', 'Hungary', 'Iceland', 'India', 'Indonesia', 'Iran (Islamic Republic of)', 'Iraq', 'Ireland', 'Israel', 'Italy', 'Jamaica', 'Japan', 'Jersey', 'Jordan', 'Kazakhstan', 'Kenya', 'Kuwait', 'Latvia', 'Lebanon', 'Liechtenstein', 'Lithuania', 'Luxembourg', 'Malaysia', 'Maldives', 'Malta', 'Martinique', 'Mauritania', 'Mexico', 'Monaco', 'Mongolia', 'Morocco', 'Namibia', 'Nepal', 'Netherlands', 'New Zealand', 'Nigeria', 'North Macedonia', 'Norway', 'Oman', 'Pakistan', 'Panama', 'Paraguay', 'Peru', 'Philippines', 'Poland', 'Portugal', 'Qatar', 'Republic of Korea', 'Republic of Moldova', 'Romania', 'Russian Federation', 'Rwanda', 'Réunion', 'Saint Barthélemy', 'Saint Lucia', 'Saint Vincent and the Grenadines', 'San Marino', 'Saudi Arabia', 'Senegal', 'Serbia', 'Seychelles', 'Singapore', 'Slovakia', 'Slovenia', 'South Africa', 'Spain', 'Sri Lanka', 'State of Palestine', 'Sudan', 'Suriname', 'Sweden', 'Switzerland', 'Taiwan (Province of China)', 'Thailand', 'Togo', 'Tunisia', 'Türkiye', 'Ukraine', 'United Arab Emirates', 'United Kingdom', 'United States', 'Uruguay', 'Uzbekistan', 'Venezuela (Bolivarian Republic of)', 'Viet Nam', 'World']\n"
     ]
    }
   ],
   "source": [
    "print(locations)"
   ]
  }
 ],
 "metadata": {
  "kernelspec": {
   "display_name": "Python (HDX_Proj)",
   "language": "python",
   "name": "hdx"
  },
  "language_info": {
   "codemirror_mode": {
    "name": "ipython",
    "version": 3
   },
   "file_extension": ".py",
   "mimetype": "text/x-python",
   "name": "python",
   "nbconvert_exporter": "python",
   "pygments_lexer": "ipython3",
   "version": "3.11.5"
  }
 },
 "nbformat": 4,
 "nbformat_minor": 5
}
