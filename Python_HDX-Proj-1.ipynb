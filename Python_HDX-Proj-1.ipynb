{
 "cells": [
  {
   "cell_type": "markdown",
   "id": "c9bcb2d3-7f99-4e66-98b1-762699676040",
   "metadata": {},
   "source": [
    "# Procedure sheet for search in HDX database using Python\n",
    "\n",
    "Set of scripts to install, configure and use Python modules to search in Humanitarian Data eXchange database."
   ]
  },
  {
   "cell_type": "code",
   "execution_count": 22,
   "id": "1f1f5ff0-143f-4805-87e3-b266b884f280",
   "metadata": {
    "tags": []
   },
   "outputs": [],
   "source": [
    "import pandas as pd\n",
    "import numpy as np\n",
    "import pandas as pd"
   ]
  },
  {
   "cell_type": "markdown",
   "id": "e0db0d78-9b6a-480b-88cf-a1cbaa509b20",
   "metadata": {},
   "source": [
    "Load package for regular expression management :      \n",
    "https://docs.python.org/3/library/re.html"
   ]
  },
  {
   "cell_type": "code",
   "execution_count": null,
   "id": "922e0a81-1230-4d53-82f0-e0b6bd5c176e",
   "metadata": {},
   "outputs": [],
   "source": [
    "import re"
   ]
  },
  {
   "cell_type": "markdown",
   "id": "203d9313-506f-4765-a8f1-c2f64b0742f3",
   "metadata": {},
   "source": [
    "Load package for Humanitarian Data Exchange plateform connexion management (see wiki for links to sources and tutorial) :"
   ]
  },
  {
   "cell_type": "code",
   "execution_count": null,
   "id": "1414d24f-59d3-45f9-a1d5-060414111513",
   "metadata": {},
   "outputs": [],
   "source": [
    "from hdx.utilities.easy_logging import setup_logging\n",
    "from hdx.api.configuration import Configuration\n",
    "from hdx.data.dataset import Dataset"
   ]
  },
  {
   "cell_type": "markdown",
   "id": "ae5e77e1-52f8-4e57-ac90-a4c47740b214",
   "metadata": {},
   "source": [
    "## Setup\n",
    "\n",
    "Setup has to be performed only once :"
   ]
  },
  {
   "cell_type": "code",
   "execution_count": 23,
   "id": "dcb89cf1-7536-4cd6-907c-713bfcdcf3fa",
   "metadata": {
    "tags": []
   },
   "outputs": [],
   "source": [
    "setup_logging()"
   ]
  },
  {
   "cell_type": "code",
   "execution_count": 25,
   "id": "f32c5010-3508-4c7b-9c70-9a7203096a06",
   "metadata": {
    "tags": []
   },
   "outputs": [],
   "source": [
    "Configuration has to be made only once \n",
    "Configuration.create(hdx_site=\"prod\", user_agent=\"BDAUTRIF_HDX-client-Proj\", hdx_read_only=True)"
   ]
  },
  {
   "cell_type": "markdown",
   "id": "fdc141cd-7ae3-466b-b021-74bae125319e",
   "metadata": {},
   "source": [
    "## Search module\n",
    "\n",
    "Common search in HDX using client method :"
   ]
  },
  {
   "cell_type": "code",
   "execution_count": null,
   "id": "8f0f0f5a-443b-4ee4-a4d9-1e9cb383f7c8",
   "metadata": {},
   "outputs": [],
   "source": [
    "datasets = Dataset.search_in_hdx(\"WHO\", rows=1000)"
   ]
  },
  {
   "cell_type": "markdown",
   "id": "2d9a4cc2-1ec6-4f80-883d-da09240087c6",
   "metadata": {},
   "source": [
    "More parameters avalilable by \"get_*\" methods of Dataset object :      \n",
    "See https://github.com/Ben-zie/HDX_Proj-1/blob/main/Python_HDX-Proj-1.ipynb\n",
    "\n",
    "Stock \"results\" in a dataframe :"
   ]
  },
  {
   "cell_type": "code",
   "execution_count": null,
   "id": "7729566b-ccba-4a86-9228-b9128c50da2e",
   "metadata": {
    "tags": []
   },
   "outputs": [],
   "source": [
    "results = pd.DataFrame(datasets)"
   ]
  },
  {
   "cell_type": "markdown",
   "id": "9ac99958-1934-4475-b388-af3be06ff316",
   "metadata": {
    "tags": []
   },
   "source": [
    "### Variables in result dataframe :\n",
    "\n",
    "\n",
    "['archived', 'batch', 'caveats', 'cod_level', 'creator_user_id', 'customviz', 'data_update_frequency', 'dataseries_name', 'dataset_date', 'dataset_preview', 'dataset_source', 'due_date', 'groups', 'has_geodata', 'has_quickcharts', 'has_showcases', 'id', 'is_requestdata_type', 'isopen', 'last_modified', 'license_id', 'license_other', 'license_title', 'license_url', 'maintainer', 'metadata_created', 'metadata_modified', 'methodology', 'methodology_other', 'name', 'notes', 'num_resources', 'num_tags', 'organization', 'overdue_date', 'owner_org', 'package_creator', 'pageviews_last_14_days', 'private', 'qa_checklist', 'qa_completed', 'relationships_as_object', 'relationships_as_subject', 'review_date', 'solr_additions', 'state', 'subnational', 'tags', 'title', 'total_res_downloads', 'type', 'updated_by_script', 'url', 'version']\n",
    "\n",
    "## Sorting results by date :\n",
    "\n",
    "Using package \"re\" for regular expressions :\n",
    "\n",
    "Set a function to get the dataset date from ['dataset_date'] (for datasets referenced by an intervall period, the last one is chosen) and returned as a vector :"
   ]
  },
  {
   "cell_type": "code",
   "execution_count": null,
   "id": "304fedc1-0128-4040-9548-afec15f5878d",
   "metadata": {},
   "outputs": [],
   "source": [
    "def get_date (x): \n",
    "    \"\"\"\n",
    "    Parameters : a dataframe containing research results from the HDX databse\n",
    "    Returns : dates of different datasets in a vector object\n",
    "    \"\"\"\n",
    "    x_dates = x.get('dataset_date')\n",
    "    dates = []\n",
    "    for i in x_dates : \n",
    "        dates.append(re.findall(r'(\\d{4}-\\d{2}-\\d{2})(?!.*\\d{4}-\\d{2}-\\d{2}T)', i))\n",
    "    x['date_var'] = list(np.concatenate(dates).flat)\n",
    "    x['date_var'] = pd.to_datetime(x['date_var'])\n",
    "    return x"
   ]
  },
  {
   "cell_type": "markdown",
   "id": "48a075fb-522c-4ace-82b8-4f51e5196e36",
   "metadata": {},
   "source": [
    "Set a function to add a variable to dataset, containing date and sort dataset by this column :"
   ]
  },
  {
   "cell_type": "code",
   "execution_count": null,
   "id": "7b998616-c4e5-4d02-92fc-68a64f14db92",
   "metadata": {},
   "outputs": [],
   "source": [
    "def sort_by_date (x) :\n",
    "    \"\"\"\n",
    "    Parameters : a dataframe containing research results from the HDX databse\n",
    "    Returns : given dataset sorted by the last entry date in datas\n",
    "    \"\"\"\n",
    "    x = get_date(x)\n",
    "    x = x.sort_values(by='date_var',ascending=False)\n",
    "    return x"
   ]
  },
  {
   "cell_type": "markdown",
   "id": "554316cc-f482-4602-8e32-9edd9244a613",
   "metadata": {
    "tags": []
   },
   "source": [
    "## Read module :\n",
    "\n",
    "Read dataset and get ressources :"
   ]
  },
  {
   "cell_type": "code",
   "execution_count": 26,
   "id": "d8a91d32-87a1-498f-a393-3f5909014558",
   "metadata": {
    "tags": []
   },
   "outputs": [
    {
     "name": "stdout",
     "output_type": "stream",
     "text": [
      "{'startdate': datetime.datetime(2020, 1, 22, 0, 0, tzinfo=datetime.timezone.utc), 'enddate': datetime.datetime(2023, 3, 9, 23, 59, 59, tzinfo=datetime.timezone.utc), 'startdate_str': '2020-01-22T00:00:00+00:00', 'enddate_str': '2023-03-09T23:59:59+00:00', 'ongoing': False}\n"
     ]
    }
   ],
   "source": [
    "dataset = Dataset.read_from_hdx(\"novel-coronavirus-2019-ncov-cases\")\n",
    "print(dataset.get_reference_period())"
   ]
  },
  {
   "cell_type": "code",
   "execution_count": 29,
   "id": "3bc34362-7a9f-4767-9bb3-d07c78a43e98",
   "metadata": {
    "tags": []
   },
   "outputs": [],
   "source": [
    "period = dataset.get_reference_period()"
   ]
  },
  {
   "cell_type": "code",
   "execution_count": 31,
   "id": "e2e582c8-3918-4255-ab0b-03d9a76b3ed3",
   "metadata": {
    "tags": []
   },
   "outputs": [],
   "source": [
    "locations = dataset.get_location_iso3s()"
   ]
  },
  {
   "cell_type": "code",
   "execution_count": 33,
   "id": "a015a91b-83aa-4234-95ea-c7da808ccb30",
   "metadata": {
    "tags": []
   },
   "outputs": [],
   "source": [
    "locations = dataset.get_location_names()"
   ]
  },
  {
   "cell_type": "code",
   "execution_count": 34,
   "id": "b26c8b1b-ea5a-4092-8f8f-9758c6ef654c",
   "metadata": {
    "tags": []
   },
   "outputs": [],
   "source": [
    "tags = dataset.get_tags()"
   ]
  }
 ],
 "metadata": {
  "kernelspec": {
   "display_name": "Python (HDX_Proj)",
   "language": "python",
   "name": "hdx"
  },
  "language_info": {
   "codemirror_mode": {
    "name": "ipython",
    "version": 3
   },
   "file_extension": ".py",
   "mimetype": "text/x-python",
   "name": "python",
   "nbconvert_exporter": "python",
   "pygments_lexer": "ipython3",
   "version": "3.11.5"
  }
 },
 "nbformat": 4,
 "nbformat_minor": 5
}
