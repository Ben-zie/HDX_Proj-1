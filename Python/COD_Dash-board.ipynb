{
 "cells": [
  {
   "cell_type": "markdown",
   "id": "d121ffd5",
   "metadata": {},
   "source": [
    "### Defin Keyword(s) :\n",
    "\n",
    "Here an example KEYWORD for the research. Project being humanirarian oriented, the example involves COD datasets\n",
    "wich are crucial in any analysis.\n",
    "(Caution : space-separated if multiple words)"
   ]
  },
  {
   "cell_type": "code",
   "execution_count": null,
   "id": "6e31fd6f",
   "metadata": {},
   "outputs": [],
   "source": [
    "Keyword = \"cod ps\"\n",
    "Keyword_infielf = 'ocha'\n",
    "field = 'notes'\n",
    "rows=1000"
   ]
  },
  {
   "cell_type": "markdown",
   "id": "0fca6b56",
   "metadata": {},
   "source": [
    "### Limit dates :\n"
   ]
  },
  {
   "cell_type": "code",
   "execution_count": null,
   "id": "24f15b97",
   "metadata": {},
   "outputs": [],
   "source": [
    "start_date = '2020-11-15'\n",
    "end_date   = '2023-11-18'\n",
    "ascending = True\n",
    "inplace = False\n"
   ]
  },
  {
   "cell_type": "markdown",
   "id": "36028a5b",
   "metadata": {},
   "source": [
    "### RESEARCH MODULE :"
   ]
  },
  {
   "cell_type": "markdown",
   "id": "eb54fa44",
   "metadata": {},
   "source": [
    "Common search in HDX using client method :"
   ]
  },
  {
   "cell_type": "code",
   "execution_count": null,
   "id": "0780d522",
   "metadata": {},
   "outputs": [],
   "source": [
    "datasets = Dataset.search_in_hdx(Keyword, rows=rows)"
   ]
  },
  {
   "cell_type": "markdown",
   "id": "b901343d",
   "metadata": {},
   "source": [
    "More parameters avalilable by \"get_*\" methods of Dataset object :\n",
    "\n",
    "    https://github.com/Ben-zie/HDX_Proj-1/blob/main/Python_HDX-Proj-1.ipynb\n",
    "   \n",
    "Store results in a dataframe :"
   ]
  },
  {
   "cell_type": "code",
   "execution_count": null,
   "id": "7a173f7c",
   "metadata": {},
   "outputs": [],
   "source": [
    "results = pd.DataFrame(datasets)"
   ]
  },
  {
   "cell_type": "code",
   "execution_count": null,
   "id": "e51e5d32",
   "metadata": {},
   "outputs": [],
   "source": [
    "results.info()\n",
    "results.shape"
   ]
  },
  {
   "cell_type": "markdown",
   "id": "c4b48f9e",
   "metadata": {},
   "source": [
    "### Run functions to apply time interval :"
   ]
  },
  {
   "cell_type": "code",
   "execution_count": null,
   "id": "2091b338",
   "metadata": {},
   "outputs": [],
   "source": [
    "res = select_by_date(results = results,start_date=start_date,end_date=end_date,ascending=ascending)"
   ]
  },
  {
   "cell_type": "markdown",
   "id": "ce088c6e",
   "metadata": {},
   "source": [
    "### searching for a WORD as 'token' in a field :"
   ]
  },
  {
   "cell_type": "code",
   "execution_count": null,
   "id": "5acef4c8",
   "metadata": {},
   "outputs": [],
   "source": [
    "results.info()\n",
    "results.shape"
   ]
  },
  {
   "cell_type": "code",
   "execution_count": null,
   "id": "02228e6e",
   "metadata": {},
   "outputs": [],
   "source": [
    "mask_word = word_search(res, patern = Keyword_infielf ,field = field)\n",
    "res_w = res.iloc[mask_word,:]"
   ]
  },
  {
   "cell_type": "code",
   "execution_count": null,
   "id": "44ec0409",
   "metadata": {},
   "outputs": [],
   "source": [
    "dataset = Dataset.read_from_hdx(res.loc[565,:].id)\n"
   ]
  }
 ],
 "metadata": {
  "kernelspec": {
   "display_name": "Python (HDX_Proj)",
   "language": "python",
   "name": "hdx"
  },
  "language_info": {
   "codemirror_mode": {
    "name": "ipython",
    "version": 3
   },
   "file_extension": ".py",
   "mimetype": "text/x-python",
   "name": "python",
   "nbconvert_exporter": "python",
   "pygments_lexer": "ipython3",
   "version": "3.11.5"
  }
 },
 "nbformat": 4,
 "nbformat_minor": 5
}
